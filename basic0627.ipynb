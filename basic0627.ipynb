{
  "nbformat": 4,
  "nbformat_minor": 0,
  "metadata": {
    "colab": {
      "name": "basic0627.ipynb",
      "provenance": [],
      "toc_visible": true,
      "authorship_tag": "ABX9TyP30a93mUBF9Lvys1H6lxfb",
      "include_colab_link": true
    },
    "kernelspec": {
      "name": "python3",
      "display_name": "Python 3"
    },
    "language_info": {
      "name": "python"
    },
    "gpuClass": "standard",
    "accelerator": "GPU"
  },
  "cells": [
    {
      "cell_type": "markdown",
      "metadata": {
        "id": "view-in-github",
        "colab_type": "text"
      },
      "source": [
        "<a href=\"https://colab.research.google.com/github/seungukkim/python_lectures/blob/main/basic0627.ipynb\" target=\"_parent\"><img src=\"https://colab.research.google.com/assets/colab-badge.svg\" alt=\"Open In Colab\"/></a>"
      ]
    },
    {
      "cell_type": "code",
      "source": [
        ""
      ],
      "metadata": {
        "id": "ECVP6dkZkBy_"
      },
      "execution_count": null,
      "outputs": []
    },
    {
      "cell_type": "markdown",
      "source": [
        "##제목1\n",
        "-파이썬 입문"
      ],
      "metadata": {
        "id": "zpODhK0vkGsM"
      }
    },
    {
      "cell_type": "markdown",
      "source": [
        "###소제목 1\n",
        "-여기는 소제목입니다."
      ],
      "metadata": {
        "id": "ntcuweppkQJj"
      }
    },
    {
      "cell_type": "code",
      "source": [
        "print(\"Hello World\")"
      ],
      "metadata": {
        "colab": {
          "base_uri": "https://localhost:8080/"
        },
        "id": "bGvMIV-wkUr0",
        "outputId": "3b63c8ab-743e-4d69-83f0-77a7b6a18809"
      },
      "execution_count": 1,
      "outputs": [
        {
          "output_type": "stream",
          "name": "stdout",
          "text": [
            "Hello World\n"
          ]
        }
      ]
    },
    {
      "cell_type": "markdown",
      "source": [
        "## 제목2\n",
        "-제목2섹션"
      ],
      "metadata": {
        "id": "F06gqqQMkqk-"
      }
    },
    {
      "cell_type": "markdown",
      "source": [
        "###소제목2"
      ],
      "metadata": {
        "id": "MrDKvbg2kwWN"
      }
    },
    {
      "cell_type": "code",
      "source": [
        "a1=10\n",
        "print(a1)"
      ],
      "metadata": {
        "colab": {
          "base_uri": "https://localhost:8080/"
        },
        "id": "aRweXtIqkydf",
        "outputId": "26477fce-c25f-4e71-ec30-cc151c3d58b7"
      },
      "execution_count": 2,
      "outputs": [
        {
          "output_type": "stream",
          "name": "stdout",
          "text": [
            "10\n"
          ]
        }
      ]
    }
  ]
}